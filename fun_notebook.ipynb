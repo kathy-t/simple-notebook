{
  "nbformat": 4,
  "nbformat_minor": 0,
  "metadata": {
    "colab": {
      "provenance": [],
      "authorship_tag": "ABX9TyPEAm45QY7yyo5ZI1JQtqCr",
      "include_colab_link": true
    },
    "kernelspec": {
      "name": "python3",
      "display_name": "Python 3"
    },
    "language_info": {
      "name": "python"
    }
  },
  "cells": [
    {
      "cell_type": "markdown",
      "metadata": {
        "id": "view-in-github",
        "colab_type": "text"
      },
      "source": [
        "<a href=\"https://colab.research.google.com/github/kathy-t/simple-notebook/blob/main/fun_notebook.ipynb\" target=\"_parent\"><img src=\"https://colab.research.google.com/assets/colab-badge.svg\" alt=\"Open In Colab\"/></a>"
      ]
    },
    {
      "cell_type": "markdown",
      "source": [
        "This notebook is a demonstration of how TRS can be used to retrieve workflows and its files."
      ],
      "metadata": {
        "id": "khJtuBs9wCOX"
      }
    },
    {
      "cell_type": "markdown",
      "source": [
        "These are TRS URL constants that can be used for this notebook."
      ],
      "metadata": {
        "id": "fWcCuf3fiq0T"
      }
    },
    {
      "cell_type": "code",
      "source": [
        "DOCKSTORE_TRS_URL = 'https://dockstore.org/api/ga4gh/trs/v2/'\n",
        "DOCKSTORE_EXAMPLE_TRS_ID = '#workflow/github.com/dockstore/dockstore-tool-bamstats/wdl'\n",
        "DOCKSTORE_EXAMPLE_TRS_VERSION_ID = '1.25-9'\n",
        "\n",
        "WORKFLOW_HUB_TRS_URL = 'https://workflowhub.eu/ga4gh/trs/v2/'\n",
        "WORKFLOW_HUB_EXAMPLE_TRS_ID = '110'\n",
        "WORKFLOW_HUB_EXAMPLE_VERSION_ID = '8'\n",
        "\n",
        "# Choose one of DOCKSTORE_TRS_URL or WORKFLOW_HUB_TRS_URL here\n",
        "trsUrl = DOCKSTORE_TRS_URL\n",
        "\n",
        "if trsUrl == DOCKSTORE_TRS_URL:\n",
        "  exampleTrsId = DOCKSTORE_EXAMPLE_TRS_ID\n",
        "  exampleVersionId = DOCKSTORE_EXAMPLE_TRS_VERSION_ID\n",
        "elif trsUrl == WORKFLOW_HUB_TRS_URL:\n",
        "  exampleTrsId = WORKFLOW_HUB_EXAMPLE_TRS_ID\n",
        "  exampleVersionId = WORKFLOW_HUB_EXAMPLE_VERSION_ID\n",
        "\n",
        "print(\"Using TRS URL \" + trsUrl)\n",
        "print(\"Using example TRS ID '\" + exampleTrsId + \"'\")\n",
        "print(\"Using example TRS version ID '\" + exampleVersionId + \"'\")"
      ],
      "metadata": {
        "colab": {
          "base_uri": "https://localhost:8080/"
        },
        "id": "vAW-Rt_winsX",
        "outputId": "1ace9bc6-019b-4ebb-e724-1afdbc3c9a42"
      },
      "execution_count": 330,
      "outputs": [
        {
          "output_type": "stream",
          "name": "stdout",
          "text": [
            "Using TRS URL https://dockstore.org/api/ga4gh/trs/v2/\n",
            "Using example TRS ID '#workflow/github.com/dockstore/dockstore-tool-bamstats/wdl'\n",
            "Using example TRS version ID '1.25-9'\n"
          ]
        }
      ]
    },
    {
      "cell_type": "markdown",
      "source": [
        "Define helper functions that will execute the TRS requests."
      ],
      "metadata": {
        "id": "-wZ5-JlZIgkm"
      }
    },
    {
      "cell_type": "code",
      "source": [
        "import requests, json\n",
        "\n",
        "def getTrsRequest(urlSuffix):\n",
        "  fullTrsUrl = trsUrl + urlSuffix\n",
        "  print(\"Performing GET request with URL \" + fullTrsUrl)\n",
        "  return requests.get(fullTrsUrl)\n",
        "\n",
        "def getTrsRequestAsJson(urlSuffix):\n",
        "  return getTrsRequest(urlSuffix).json()\n",
        "\n",
        "def prettyPrintJson(jsonObject):\n",
        "    print(json.dumps(jsonObject, indent=4))\n",
        "\n",
        "def urlEncode(stringToEncode):\n",
        "  return requests.utils.quote(stringToEncode, safe='') # Set safe to nothing because it considers slashes safe by default"
      ],
      "metadata": {
        "id": "h09oJPR7DjlU"
      },
      "execution_count": 331,
      "outputs": []
    },
    {
      "cell_type": "markdown",
      "source": [
        "Get information about this TRS service."
      ],
      "metadata": {
        "id": "W_mLYfBQo3Vd"
      }
    },
    {
      "cell_type": "code",
      "source": [
        "prettyPrintJson(getTrsRequestAsJson('service-info'))"
      ],
      "metadata": {
        "colab": {
          "base_uri": "https://localhost:8080/"
        },
        "id": "c4YMRAGnGdqM",
        "outputId": "53ecca6f-0566-4164-8e2d-598bab32c457"
      },
      "execution_count": 332,
      "outputs": [
        {
          "output_type": "stream",
          "name": "stdout",
          "text": [
            "Performing GET request with URL https://dockstore.org/api/ga4gh/trs/v2/service-info\n",
            "{\n",
            "    \"contactUrl\": \"https://discuss.dockstore.org/t/opening-helpdesk-tickets/1506\",\n",
            "    \"createdAt\": 1593648000000,\n",
            "    \"description\": \"Dockstore is an implementation of the GA4GH Tool Registry API which is a standard for listing and describing available tools (both stand-alone, Docker-based tools as well as workflows in CWL, WDL, Nextflow, or Galaxy)\",\n",
            "    \"documentationUrl\": \"https://docs.dockstore.org\",\n",
            "    \"environment\": \"prod\",\n",
            "    \"id\": \"1\",\n",
            "    \"name\": \"Dockstore\",\n",
            "    \"organization\": {\n",
            "        \"name\": \"Dockstore\",\n",
            "        \"url\": \"https://dockstore.org\"\n",
            "    },\n",
            "    \"type\": {\n",
            "        \"artifact\": \"TRS\",\n",
            "        \"group\": \"org.ga4gh\",\n",
            "        \"version\": \"2.0.1\"\n",
            "    },\n",
            "    \"updatedAt\": 1706305452346,\n",
            "    \"version\": \"1.14.3\"\n",
            "}\n"
          ]
        }
      ]
    },
    {
      "cell_type": "markdown",
      "source": [
        "These are the types of tools that can be retrieved using this TRS service."
      ],
      "metadata": {
        "id": "oJeC24C0Is7x"
      }
    },
    {
      "cell_type": "code",
      "source": [
        "prettyPrintJson(getTrsRequestAsJson('toolClasses'))"
      ],
      "metadata": {
        "colab": {
          "base_uri": "https://localhost:8080/"
        },
        "id": "_hJ0xptUHDe7",
        "outputId": "cd116670-7181-4b51-869a-b1d21550a00a"
      },
      "execution_count": 333,
      "outputs": [
        {
          "output_type": "stream",
          "name": "stdout",
          "text": [
            "Performing GET request with URL https://dockstore.org/api/ga4gh/trs/v2/toolClasses\n",
            "[\n",
            "    {\n",
            "        \"description\": \"CommandLineTool\",\n",
            "        \"id\": \"0\",\n",
            "        \"name\": \"CommandLineTool\"\n",
            "    },\n",
            "    {\n",
            "        \"description\": \"Workflow\",\n",
            "        \"id\": \"1\",\n",
            "        \"name\": \"Workflow\"\n",
            "    },\n",
            "    {\n",
            "        \"description\": \"Service\",\n",
            "        \"id\": \"2\",\n",
            "        \"name\": \"Service\"\n",
            "    },\n",
            "    {\n",
            "        \"description\": \"Notebook\",\n",
            "        \"id\": \"3\",\n",
            "        \"name\": \"Notebook\"\n",
            "    }\n",
            "]\n"
          ]
        }
      ]
    },
    {
      "cell_type": "markdown",
      "source": [
        "You can list all the tools available using the `tools` endpoint. This endpoint also allows you to filter tools and page through the results using the `offset` parameter.\n",
        "\n",
        "Let's list 3 workflows using this TRS endpoint. For this example, we set the `limit` query parameter to `3` because we only want to see 3 results and the `offset` to 0 because we want to view the first page of results."
      ],
      "metadata": {
        "id": "4FTnpmDGKwrV"
      }
    },
    {
      "cell_type": "code",
      "source": [
        "listToolsUrl = 'tools?toolClass={toolClass}&limit={limit}&offset={offset}'\n",
        "\n",
        "prettyPrintJson(getTrsRequestAsJson(listToolsUrl.format(toolClass = 'Workflow', limit = '3', offset = 0)))"
      ],
      "metadata": {
        "colab": {
          "base_uri": "https://localhost:8080/"
        },
        "id": "FuEsyQ-pI2N5",
        "outputId": "5fd2a45c-227b-40bc-d961-5bd54c4113ec"
      },
      "execution_count": 334,
      "outputs": [
        {
          "output_type": "stream",
          "name": "stdout",
          "text": [
            "Performing GET request with URL https://dockstore.org/api/ga4gh/trs/v2/tools?toolClass=Workflow&limit=3&offset=0\n",
            "[\n",
            "    {\n",
            "        \"aliases\": [],\n",
            "        \"checker_url\": \"\",\n",
            "        \"description\": \"\",\n",
            "        \"has_checker\": false,\n",
            "        \"id\": \"#workflow/github.com/DockstoreTestUser/dockstore-whalesay/dockstore-whalesay-wdl\",\n",
            "        \"meta_version\": \"2016-05-17 15:42:19.992\",\n",
            "        \"name\": \"dockstore-whalesay/dockstore-whalesay-wdl\",\n",
            "        \"organization\": \"DockstoreTestUser\",\n",
            "        \"toolclass\": {\n",
            "            \"description\": \"Workflow\",\n",
            "            \"id\": \"1\",\n",
            "            \"name\": \"Workflow\"\n",
            "        },\n",
            "        \"url\": \"https://dockstore.org/api/ga4gh/trs/v2/tools/%23workflow%2Fgithub.com%2FDockstoreTestUser%2Fdockstore-whalesay%2Fdockstore-whalesay-wdl\",\n",
            "        \"versions\": [\n",
            "            {\n",
            "                \"author\": [],\n",
            "                \"containerfile\": false,\n",
            "                \"descriptor_type\": [\n",
            "                    \"WDL\"\n",
            "                ],\n",
            "                \"descriptor_type_version\": {\n",
            "                    \"WDL\": [\n",
            "                        \"draft-2\"\n",
            "                    ]\n",
            "                },\n",
            "                \"id\": \"#workflow/github.com/DockstoreTestUser/dockstore-whalesay/dockstore-whalesay-wdl:master\",\n",
            "                \"images\": [],\n",
            "                \"included_apps\": [],\n",
            "                \"is_production\": false,\n",
            "                \"meta_version\": \"Thu Jan 01 00:00:00 UTC 1970\",\n",
            "                \"name\": \"master\",\n",
            "                \"signed\": false,\n",
            "                \"url\": \"https://dockstore.org/api/ga4gh/trs/v2/tools/%23workflow%2Fgithub.com%2FDockstoreTestUser%2Fdockstore-whalesay%2Fdockstore-whalesay-wdl/versions/master\",\n",
            "                \"verified\": false,\n",
            "                \"verified_source\": []\n",
            "            }\n",
            "        ]\n",
            "    },\n",
            "    {\n",
            "        \"aliases\": [],\n",
            "        \"checker_url\": \"\",\n",
            "        \"description\": \"INTEGRATE workflow: untar, tophat align, samtools index, Integrate fusion\",\n",
            "        \"has_checker\": false,\n",
            "        \"id\": \"#workflow/github.com/Jeltje/integrate\",\n",
            "        \"meta_version\": \"2016-12-12 20:49:00.861\",\n",
            "        \"name\": \"integrate\",\n",
            "        \"organization\": \"Jeltje\",\n",
            "        \"toolclass\": {\n",
            "            \"description\": \"Workflow\",\n",
            "            \"id\": \"1\",\n",
            "            \"name\": \"Workflow\"\n",
            "        },\n",
            "        \"url\": \"https://dockstore.org/api/ga4gh/trs/v2/tools/%23workflow%2Fgithub.com%2FJeltje%2Fintegrate\",\n",
            "        \"versions\": [\n",
            "            {\n",
            "                \"author\": [],\n",
            "                \"containerfile\": false,\n",
            "                \"descriptor_type\": [\n",
            "                    \"CWL\"\n",
            "                ],\n",
            "                \"descriptor_type_version\": {\n",
            "                    \"CWL\": [\n",
            "                        \"v1.0\"\n",
            "                    ]\n",
            "                },\n",
            "                \"id\": \"#workflow/github.com/Jeltje/integrate:master\",\n",
            "                \"images\": [],\n",
            "                \"included_apps\": [],\n",
            "                \"is_production\": false,\n",
            "                \"meta_version\": \"Thu Jan 01 00:00:00 UTC 1970\",\n",
            "                \"name\": \"master\",\n",
            "                \"signed\": false,\n",
            "                \"url\": \"https://dockstore.org/api/ga4gh/trs/v2/tools/%23workflow%2Fgithub.com%2FJeltje%2Fintegrate/versions/master\",\n",
            "                \"verified\": false,\n",
            "                \"verified_source\": []\n",
            "            }\n",
            "        ]\n",
            "    },\n",
            "    {\n",
            "        \"aliases\": [],\n",
            "        \"checker_url\": \"\",\n",
            "        \"description\": \"\",\n",
            "        \"has_checker\": false,\n",
            "        \"id\": \"#workflow/github.com/ICGC-TCGA-PanCancer/wdl-pcawg-sanger-cgp-workflow\",\n",
            "        \"meta_version\": \"2016-12-16 17:55:27.535\",\n",
            "        \"name\": \"wdl-pcawg-sanger-cgp-workflow\",\n",
            "        \"organization\": \"ICGC-TCGA-PanCancer\",\n",
            "        \"toolclass\": {\n",
            "            \"description\": \"Workflow\",\n",
            "            \"id\": \"1\",\n",
            "            \"name\": \"Workflow\"\n",
            "        },\n",
            "        \"url\": \"https://dockstore.org/api/ga4gh/trs/v2/tools/%23workflow%2Fgithub.com%2FICGC-TCGA-PanCancer%2Fwdl-pcawg-sanger-cgp-workflow\",\n",
            "        \"versions\": [\n",
            "            {\n",
            "                \"author\": [],\n",
            "                \"containerfile\": false,\n",
            "                \"descriptor_type\": [\n",
            "                    \"WDL\"\n",
            "                ],\n",
            "                \"descriptor_type_version\": {\n",
            "                    \"WDL\": [\n",
            "                        \"draft-2\"\n",
            "                    ]\n",
            "                },\n",
            "                \"id\": \"#workflow/github.com/ICGC-TCGA-PanCancer/wdl-pcawg-sanger-cgp-workflow:master\",\n",
            "                \"images\": [],\n",
            "                \"included_apps\": [],\n",
            "                \"is_production\": false,\n",
            "                \"meta_version\": \"2017-07-18 17:43:50.0\",\n",
            "                \"name\": \"master\",\n",
            "                \"signed\": false,\n",
            "                \"url\": \"https://dockstore.org/api/ga4gh/trs/v2/tools/%23workflow%2Fgithub.com%2FICGC-TCGA-PanCancer%2Fwdl-pcawg-sanger-cgp-workflow/versions/master\",\n",
            "                \"verified\": false,\n",
            "                \"verified_source\": []\n",
            "            }\n",
            "        ]\n",
            "    }\n",
            "]\n"
          ]
        }
      ]
    },
    {
      "cell_type": "markdown",
      "source": [
        "You can retrieve a specific tool by specifying the ID using the `tools/{id}` endpoint."
      ],
      "metadata": {
        "id": "0bd9RpvRVaV3"
      }
    },
    {
      "cell_type": "code",
      "source": [
        "print(\"Getting specific tool with ID '\" + exampleTrsId + \"'\\n\")\n",
        "prettyPrintJson(getTrsRequestAsJson('tools/{id}'.format(id = urlEncode(exampleTrsId))))"
      ],
      "metadata": {
        "colab": {
          "base_uri": "https://localhost:8080/"
        },
        "id": "-YV0NJj-V-ym",
        "outputId": "5b4030c3-5e02-4642-98c2-3de283cd9ad3"
      },
      "execution_count": 335,
      "outputs": [
        {
          "output_type": "stream",
          "name": "stdout",
          "text": [
            "Getting specific tool with ID '#workflow/github.com/dockstore/dockstore-tool-bamstats/wdl'\n",
            "\n",
            "Performing GET request with URL https://dockstore.org/api/ga4gh/trs/v2/tools/%23workflow%2Fgithub.com%2Fdockstore%2Fdockstore-tool-bamstats%2Fwdl\n",
            "{\n",
            "    \"aliases\": [],\n",
            "    \"checker_url\": \"\",\n",
            "    \"description\": \"# dockstore-tool-bamstats\\n\\nA repo for the `Dockerfile` to create a Docker image for the BAMStats command. Also contains the\\n`Dockstore.yml` which is used by the [Dockstore](https://www.dockstore.org) to register\\nthis container and describe how to call BAMStats for the community.\\n\\n## Validation \\n\\nThis tool has been validated as a CWL draft-3 and v1.0 CommandLineTool. \\n\\nVersions that we tested with are documented iin https://raw.githubusercontent.com/dockstore/dockstore/1.13.0-beta.3/dockstore-webservice/src/main/resources/requirements/1.13.0/requirements3.txt\\n\\n\\n## Building Manually\\n\\nNormally you would let GitHub actions build this.  But, if you need to build manually (for example due to https://github.com/broadinstitute/cromwell/issues/6827)  you would execute:\\n\\n    docker build -t ghcr.io/dockstore/dockstore-tool-bamstats:1.25-8 .\\n\\n## Running Manually\\n\\n```\\n$ wget ftp://ftp.1000genomes.ebi.ac.uk/vol1/ftp/phase3/data/NA12878/alignment/NA12878.chrom20.ILLUMINA.bwa.CEU.low_coverage.20121211.bam\\n$ docker run -it -v `pwd`/NA12878.chrom20.ILLUMINA.bwa.CEU.low_coverage.20121211.bam:/NA12878.chrom20.ILLUMINA.bwa.CEU.low_coverage.20121211.bam ghcr.io/dockstore/dockstore-tool-bamstats:1.25-8\\n\\n# within the docker container\\n$ /usr/local/bin/bamstats 4 /NA12878.chrom20.ILLUMINA.bwa.CEU.low_coverage.20121211.bam\\n```\\nYou'll then see a file, `bamstats_report.zip`, in the current directory, that's the report file. You can use `-v` to mount the result out of the container.\\n\\n## Running Through the Dockstore CLI\\n\\nThis tool can be found at the [Dockstore](https://dockstore.org), login with your GitHub account and follow the \\ndirections to setup the CLI.  It lets you run a Docker container with a CWL/WDL descriptor locally, using Docker and the CWL/WDL command line utility.  This is great for testing.\\n\\n### With CWL\\n\\n#### Make a Parameters JSON\\n\\nThis is the parameterization of the BAM stat tool, a copy is present in this repo called `sample_configs.json`:\\n\\n```\\n{\\n  \\\"bam_input\\\": {\\n        \\\"class\\\": \\\"File\\\",\\n        \\\"path\\\": \\\"ftp://ftp.1000genomes.ebi.ac.uk/vol1/ftp/phase3/data/NA12878/alignment/NA12878.chrom20.ILLUMINA.bwa.CEU.low_coverage.20121211.bam\\\"\\n    },\\n    \\\"bamstats_report\\\": {\\n        \\\"class\\\": \\\"File\\\",\\n        \\\"path\\\": \\\"/tmp/bamstats_report.zip\\\"\\n    }\\n}\\n```\\n\\n#### Run with the CLI\\n\\nRun it using the `dockstore` CLI:\\n\\n```\\n# Fetch CWL workflow\\ndockstore workflow cwl --entry github.com/dockstore/dockstore-tool-bamstats/bamstats_cwl:feature/update > bamstats.cwl\\n\\n# Make a runtime JSON template and edit it (or use the content of sample_configs.json above)\\ndockstore workflow convert cwl2json --cwl bamstats.cwl > Dockstore.json\\n\\n# Update the \\\"path\\\" field for both input and output files within Dockstore.json\\njq '.bam_input.path |= \\\"ftp://ftp.1000genomes.ebi.ac.uk/vol1/ftp/phase3/data/NA12878/alignment/NA12878.chrom20.ILLUMINA.bwa.CEU.low_coverage.20121211.bam\\\"| .bamstats_report.path |= \\\"/tmp/bamstats_report.zip\\\"' Dockstore.json | sponge  Dockstore.json\\n\\n# Run it locally with the Dockstore CLI\\ndockstore workflow launch --entry github.com/dockstore/dockstore-tool-bamstats/bamstats_cwl:feature/update --json Dockstore.json\\n```\\n\\n### With WDL\\n#### Make a Parameters JSON\\n\\nThis is the parameterization of the BAM stat tool, a copy is present in this repo called `test.wdl.json`:\\n\\n```\\n{\\n  \\\"bamstatsWorkflow.bam_input\\\": \\\"rna.SRR948778.bam\\\",\\n  \\\"bamstatsWorkflow.mem_gb\\\": \\\"4\\\"\\n}\\n```\\n\\n#### Run with the CLI\\n\\nRun it using the `dockstore` CLI:\\n\\n```\\nUsage:\\n# fetch WDL\\n$> dockstore workflow wdl --entry github.com/dockstore/dockstore-tool-bamstats/wdl:feature/update > bamstats.wdl\\n# make a runtime JSON template and edit it (or use the content of test.wdl.json above)\\n$> dockstore workflow convert wdl2json --wdl bamstats.wdl > Dockstore.json\\n# run it locally with the Dockstore CLI\\n$> dockstore workflow launch --entry github.com/dockstore/dockstore-tool-bamstats/wdl:feature/update --json Dockstore.json\\n```\\n\\n## Running Nextflow Workflow\\n\\nInstall [Nextflow](https://www.nextflow.io/). Nextflow workflows cannot be run with the Dockstore CLI yet.\\n\\nThe workflow can be run using the following command:\\n```\\n$> nextflow run main.nf\\n```\\n\",\n",
            "    \"has_checker\": false,\n",
            "    \"id\": \"#workflow/github.com/dockstore/dockstore-tool-bamstats/wdl\",\n",
            "    \"meta_version\": \"2022-08-09 15:56:19.085\",\n",
            "    \"name\": \"dockstore-tool-bamstats/wdl\",\n",
            "    \"organization\": \"dockstore\",\n",
            "    \"toolclass\": {\n",
            "        \"description\": \"Workflow\",\n",
            "        \"id\": \"1\",\n",
            "        \"name\": \"Workflow\"\n",
            "    },\n",
            "    \"url\": \"https://dockstore.org/api/ga4gh/trs/v2/tools/%23workflow%2Fgithub.com%2Fdockstore%2Fdockstore-tool-bamstats%2Fwdl\",\n",
            "    \"versions\": [\n",
            "        {\n",
            "            \"author\": [\n",
            "                \"Andrew Duncan\"\n",
            "            ],\n",
            "            \"containerfile\": false,\n",
            "            \"descriptor_type\": [\n",
            "                \"WDL\"\n",
            "            ],\n",
            "            \"descriptor_type_version\": {\n",
            "                \"WDL\": [\n",
            "                    \"1.0\"\n",
            "                ]\n",
            "            },\n",
            "            \"id\": \"#workflow/github.com/dockstore/dockstore-tool-bamstats/wdl:develop\",\n",
            "            \"images\": [],\n",
            "            \"included_apps\": [],\n",
            "            \"is_production\": false,\n",
            "            \"meta_version\": \"2022-08-17 18:03:25.0\",\n",
            "            \"name\": \"develop\",\n",
            "            \"signed\": false,\n",
            "            \"url\": \"https://dockstore.org/api/ga4gh/trs/v2/tools/%23workflow%2Fgithub.com%2Fdockstore%2Fdockstore-tool-bamstats%2Fwdl/versions/develop\",\n",
            "            \"verified\": false,\n",
            "            \"verified_source\": []\n",
            "        },\n",
            "        {\n",
            "            \"author\": [\n",
            "                \"Andrew Duncan\"\n",
            "            ],\n",
            "            \"containerfile\": false,\n",
            "            \"descriptor_type\": [\n",
            "                \"WDL\"\n",
            "            ],\n",
            "            \"descriptor_type_version\": {\n",
            "                \"WDL\": [\n",
            "                    \"1.0\"\n",
            "                ]\n",
            "            },\n",
            "            \"id\": \"#workflow/github.com/dockstore/dockstore-tool-bamstats/wdl:1.25-9\",\n",
            "            \"images\": [\n",
            "                {\n",
            "                    \"checksum\": [\n",
            "                        {\n",
            "                            \"checksum\": \"171725ff643f6a2e12468a780e7969c4ccc368afbcf8e0195c3b12b3ab48c602\",\n",
            "                            \"type\": \"sha-256\"\n",
            "                        }\n",
            "                    ],\n",
            "                    \"image_name\": \"ghcr.io/dockstore/dockstore-tool-bamstats:1.25-8\",\n",
            "                    \"image_type\": \"Docker\",\n",
            "                    \"registry_host\": \"ghcr.io\",\n",
            "                    \"size\": 457240691,\n",
            "                    \"updated\": null\n",
            "                }\n",
            "            ],\n",
            "            \"included_apps\": [],\n",
            "            \"is_production\": true,\n",
            "            \"meta_version\": \"2022-08-16 15:19:47.0\",\n",
            "            \"name\": \"1.25-9\",\n",
            "            \"signed\": false,\n",
            "            \"url\": \"https://dockstore.org/api/ga4gh/trs/v2/tools/%23workflow%2Fgithub.com%2Fdockstore%2Fdockstore-tool-bamstats%2Fwdl/versions/1.25-9\",\n",
            "            \"verified\": false,\n",
            "            \"verified_source\": []\n",
            "        }\n",
            "    ]\n",
            "}\n"
          ]
        }
      ]
    },
    {
      "cell_type": "markdown",
      "source": [
        "The following examples will use this endpoint prefix that includes the TRS ID so that we can perform various actions on it, such as retrieve its versions, get a specific version and its files.\n",
        "\n",
        "Let's start with listing the versions using the `tools/{id}/versions` endpoint."
      ],
      "metadata": {
        "id": "jeAuGsvHaJ72"
      }
    },
    {
      "cell_type": "code",
      "source": [
        "# List versions\n",
        "prettyPrintJson(getTrsRequestAsJson('tools/{id}/versions'.format(id = urlEncode(exampleTrsId))))"
      ],
      "metadata": {
        "colab": {
          "base_uri": "https://localhost:8080/"
        },
        "id": "TrhKsoxdalZ8",
        "outputId": "dda95479-a601-4040-d832-e6bfca382998"
      },
      "execution_count": 336,
      "outputs": [
        {
          "output_type": "stream",
          "name": "stdout",
          "text": [
            "Performing GET request with URL https://dockstore.org/api/ga4gh/trs/v2/tools/%23workflow%2Fgithub.com%2Fdockstore%2Fdockstore-tool-bamstats%2Fwdl/versions\n",
            "[\n",
            "    {\n",
            "        \"author\": [\n",
            "            \"Andrew Duncan\"\n",
            "        ],\n",
            "        \"containerfile\": false,\n",
            "        \"descriptor_type\": [\n",
            "            \"WDL\"\n",
            "        ],\n",
            "        \"descriptor_type_version\": {\n",
            "            \"WDL\": [\n",
            "                \"1.0\"\n",
            "            ]\n",
            "        },\n",
            "        \"id\": \"#workflow/github.com/dockstore/dockstore-tool-bamstats/wdl:develop\",\n",
            "        \"images\": [],\n",
            "        \"included_apps\": [],\n",
            "        \"is_production\": false,\n",
            "        \"meta_version\": \"2022-08-17 18:03:25.0\",\n",
            "        \"name\": \"develop\",\n",
            "        \"signed\": false,\n",
            "        \"url\": \"https://dockstore.org/api/ga4gh/trs/v2/tools/%23workflow%2Fgithub.com%2Fdockstore%2Fdockstore-tool-bamstats%2Fwdl/versions/develop\",\n",
            "        \"verified\": false,\n",
            "        \"verified_source\": []\n",
            "    },\n",
            "    {\n",
            "        \"author\": [\n",
            "            \"Andrew Duncan\"\n",
            "        ],\n",
            "        \"containerfile\": false,\n",
            "        \"descriptor_type\": [\n",
            "            \"WDL\"\n",
            "        ],\n",
            "        \"descriptor_type_version\": {\n",
            "            \"WDL\": [\n",
            "                \"1.0\"\n",
            "            ]\n",
            "        },\n",
            "        \"id\": \"#workflow/github.com/dockstore/dockstore-tool-bamstats/wdl:1.25-9\",\n",
            "        \"images\": [\n",
            "            {\n",
            "                \"checksum\": [\n",
            "                    {\n",
            "                        \"checksum\": \"171725ff643f6a2e12468a780e7969c4ccc368afbcf8e0195c3b12b3ab48c602\",\n",
            "                        \"type\": \"sha-256\"\n",
            "                    }\n",
            "                ],\n",
            "                \"image_name\": \"ghcr.io/dockstore/dockstore-tool-bamstats:1.25-8\",\n",
            "                \"image_type\": \"Docker\",\n",
            "                \"registry_host\": \"ghcr.io\",\n",
            "                \"size\": 457240691,\n",
            "                \"updated\": null\n",
            "            }\n",
            "        ],\n",
            "        \"included_apps\": [],\n",
            "        \"is_production\": true,\n",
            "        \"meta_version\": \"2022-08-16 15:19:47.0\",\n",
            "        \"name\": \"1.25-9\",\n",
            "        \"signed\": false,\n",
            "        \"url\": \"https://dockstore.org/api/ga4gh/trs/v2/tools/%23workflow%2Fgithub.com%2Fdockstore%2Fdockstore-tool-bamstats%2Fwdl/versions/1.25-9\",\n",
            "        \"verified\": false,\n",
            "        \"verified_source\": []\n",
            "    }\n",
            "]\n"
          ]
        }
      ]
    },
    {
      "cell_type": "markdown",
      "source": [
        "Let's get a specific version using the `tools/{id}/versions/{versionId}` endpoint."
      ],
      "metadata": {
        "id": "U_5ZD79WbLs2"
      }
    },
    {
      "cell_type": "code",
      "source": [
        "print(\"Getting version '{versionId}' for tool '{id}'\\n\".format(versionId = exampleVersionId, id = exampleTrsId))\n",
        "\n",
        "version = getTrsRequestAsJson('tools/{id}/versions/{versionId}'.format(id = urlEncode(exampleTrsId), versionId = exampleVersionId))\n",
        "prettyPrintJson(version)"
      ],
      "metadata": {
        "colab": {
          "base_uri": "https://localhost:8080/"
        },
        "id": "8k13iTbg_LSB",
        "outputId": "32ca4530-8747-4d4e-e8c6-3860420d86dd"
      },
      "execution_count": 337,
      "outputs": [
        {
          "output_type": "stream",
          "name": "stdout",
          "text": [
            "Getting version '1.25-9' for tool '#workflow/github.com/dockstore/dockstore-tool-bamstats/wdl'\n",
            "\n",
            "Performing GET request with URL https://dockstore.org/api/ga4gh/trs/v2/tools/%23workflow%2Fgithub.com%2Fdockstore%2Fdockstore-tool-bamstats%2Fwdl/versions/1.25-9\n",
            "{\n",
            "    \"author\": [\n",
            "        \"Andrew Duncan\"\n",
            "    ],\n",
            "    \"containerfile\": false,\n",
            "    \"descriptor_type\": [\n",
            "        \"WDL\"\n",
            "    ],\n",
            "    \"descriptor_type_version\": {\n",
            "        \"WDL\": [\n",
            "            \"1.0\"\n",
            "        ]\n",
            "    },\n",
            "    \"id\": \"#workflow/github.com/dockstore/dockstore-tool-bamstats/wdl:1.25-9\",\n",
            "    \"images\": [\n",
            "        {\n",
            "            \"checksum\": [\n",
            "                {\n",
            "                    \"checksum\": \"171725ff643f6a2e12468a780e7969c4ccc368afbcf8e0195c3b12b3ab48c602\",\n",
            "                    \"type\": \"sha-256\"\n",
            "                }\n",
            "            ],\n",
            "            \"image_name\": \"ghcr.io/dockstore/dockstore-tool-bamstats:1.25-8\",\n",
            "            \"image_type\": \"Docker\",\n",
            "            \"registry_host\": \"ghcr.io\",\n",
            "            \"size\": 457240691,\n",
            "            \"updated\": null\n",
            "        }\n",
            "    ],\n",
            "    \"included_apps\": [],\n",
            "    \"is_production\": true,\n",
            "    \"meta_version\": \"2022-08-16 15:19:47.0\",\n",
            "    \"name\": \"1.25-9\",\n",
            "    \"signed\": false,\n",
            "    \"url\": \"https://dockstore.org/api/ga4gh/trs/v2/tools/%23workflow%2Fgithub.com%2Fdockstore%2Fdockstore-tool-bamstats%2Fwdl/versions/1.25-9\",\n",
            "    \"verified\": false,\n",
            "    \"verified_source\": []\n",
            "}\n"
          ]
        }
      ]
    },
    {
      "cell_type": "markdown",
      "source": [
        "Now that we have the version, we can get a list of files that the version has using the `tools/{id}/versions/{versionId}/{type}/files` endpoint. In order to do this, we need to provide the type of the descriptor, which was provided in the `descriptor_type` key in the response body of the previous API call when we retrieved the version."
      ],
      "metadata": {
        "id": "Kep5iQUEJiSB"
      }
    },
    {
      "cell_type": "code",
      "source": [
        "# Get the descriptor type\n",
        "descriptorType = version['descriptor_type'][0]\n",
        "\n",
        "# Get a list of files that the version has\n",
        "print(\"Getting a list of files for tool with ID '{id}', version '{versionId}', and type '{type}'\\n\".format(id = exampleTrsId, versionId = exampleVersionId, type = descriptorType))\n",
        "files = getTrsRequestAsJson('tools/{id}/versions/{versionId}/{type}/files'.format(id = urlEncode(exampleTrsId), versionId = exampleVersionId, type = descriptorType))\n",
        "prettyPrintJson(files)"
      ],
      "metadata": {
        "colab": {
          "base_uri": "https://localhost:8080/"
        },
        "outputId": "0016bc83-012f-454d-af98-3ed811f28edf",
        "id": "PoQRKebSJ1al"
      },
      "execution_count": 338,
      "outputs": [
        {
          "output_type": "stream",
          "name": "stdout",
          "text": [
            "Getting a list of files for tool with ID '#workflow/github.com/dockstore/dockstore-tool-bamstats/wdl', version '1.25-9', and type 'WDL'\n",
            "\n",
            "Performing GET request with URL https://dockstore.org/api/ga4gh/trs/v2/tools/%23workflow%2Fgithub.com%2Fdockstore%2Fdockstore-tool-bamstats%2Fwdl/versions/1.25-9/WDL/files\n",
            "[\n",
            "    {\n",
            "        \"checksum\": {\n",
            "            \"checksum\": \"888a220be757db31d32e4ad0281b3eab716cbb12bb6a3eaff5b52b5796a1f7e1\",\n",
            "            \"type\": \"sha-256\"\n",
            "        },\n",
            "        \"file_type\": \"OTHER\",\n",
            "        \"path\": \".dockstore.yml\"\n",
            "    },\n",
            "    {\n",
            "        \"checksum\": {\n",
            "            \"checksum\": \"c3e6cfba2851d3bcc88396c59351c091e4755ef2246aa9313b1c4deb3214807e\",\n",
            "            \"type\": \"sha-256\"\n",
            "        },\n",
            "        \"file_type\": \"PRIMARY_DESCRIPTOR\",\n",
            "        \"path\": \"bamstats.wdl\"\n",
            "    },\n",
            "    {\n",
            "        \"checksum\": {\n",
            "            \"checksum\": \"c3bf71fa0060bb2f095cba44a235b91c5f0d1c414235b7d4e0eb0964261cd6fa\",\n",
            "            \"type\": \"sha-256\"\n",
            "        },\n",
            "        \"file_type\": \"TEST_FILE\",\n",
            "        \"path\": \"test.wdl.json\"\n",
            "    }\n",
            "]\n"
          ]
        }
      ]
    },
    {
      "cell_type": "markdown",
      "source": [
        "With this endpoint, you can also download these files as a zip file by specifying `format=zip`."
      ],
      "metadata": {
        "id": "2Zf1TB89K54w"
      }
    },
    {
      "cell_type": "code",
      "source": [
        "# Download the files as a zip\n",
        "print(\"Downloading a zip file containing files for tool with ID '{id}', version '{versionId}', and type '{type}'\\n\".format(id = exampleTrsId, versionId = exampleVersionId, type = descriptorType))\n",
        "fileZipResponse = getTrsRequest('tools/{id}/versions/{versionId}/{type}/files?format=zip'.format(id = urlEncode(exampleTrsId), versionId = exampleVersionId, type = descriptorType))\n",
        "with open('files.zip', 'wb') as f:\n",
        "    f.write(fileZipResponse.content)\n",
        "\n",
        "# View the zip file\n",
        "!unzip -l files.zip\n"
      ],
      "metadata": {
        "colab": {
          "base_uri": "https://localhost:8080/"
        },
        "id": "DvjZoumKK5KF",
        "outputId": "a4cc6aac-caed-4ff3-e68f-62d995e932d5"
      },
      "execution_count": 339,
      "outputs": [
        {
          "output_type": "stream",
          "name": "stdout",
          "text": [
            "Downloading a zip file containing files for tool with ID '#workflow/github.com/dockstore/dockstore-tool-bamstats/wdl', version '1.25-9', and type 'WDL'\n",
            "\n",
            "Performing GET request with URL https://dockstore.org/api/ga4gh/trs/v2/tools/%23workflow%2Fgithub.com%2Fdockstore%2Fdockstore-tool-bamstats%2Fwdl/versions/1.25-9/WDL/files?format=zip\n",
            "Archive:  files.zip\n",
            "  Length      Date    Time    Name\n",
            "---------  ---------- -----   ----\n",
            "      694  2024-02-07 20:35   .dockstore.yml\n",
            "      511  2024-02-07 20:35   bamstats.wdl\n",
            "       90  2024-02-07 20:35   test.wdl.json\n",
            "---------                     -------\n",
            "     1295                     3 files\n"
          ]
        }
      ]
    },
    {
      "cell_type": "markdown",
      "source": [
        "We can get the version's descriptor file using the `tools/{id}/versions/{versionId}/{type}/descriptor` endpoint."
      ],
      "metadata": {
        "id": "9aCFps-1Ccnw"
      }
    },
    {
      "cell_type": "code",
      "source": [
        "# Get the descriptor\n",
        "print(\"Getting the descriptor for tool with ID '{id}', version '{versionId}', and type '{type}'\\n\".format(id = exampleTrsId, versionId = exampleVersionId, type = descriptorType))\n",
        "prettyPrintJson(getTrsRequestAsJson('tools/{id}/versions/{versionId}/{type}/descriptor'.format(id = urlEncode(exampleTrsId), versionId = exampleVersionId, type = descriptorType)))"
      ],
      "metadata": {
        "colab": {
          "base_uri": "https://localhost:8080/"
        },
        "outputId": "fbba70bd-8c68-4e58-b262-2daf3135c1a2",
        "id": "KiFIsiQeJzwl"
      },
      "execution_count": 340,
      "outputs": [
        {
          "output_type": "stream",
          "name": "stdout",
          "text": [
            "Getting the descriptor for tool with ID '#workflow/github.com/dockstore/dockstore-tool-bamstats/wdl', version '1.25-9', and type 'WDL'\n",
            "\n",
            "Performing GET request with URL https://dockstore.org/api/ga4gh/trs/v2/tools/%23workflow%2Fgithub.com%2Fdockstore%2Fdockstore-tool-bamstats%2Fwdl/versions/1.25-9/WDL/descriptor\n",
            "{\n",
            "    \"checksum\": [\n",
            "        {\n",
            "            \"checksum\": \"c3e6cfba2851d3bcc88396c59351c091e4755ef2246aa9313b1c4deb3214807e\",\n",
            "            \"type\": \"sha-256\"\n",
            "        }\n",
            "    ],\n",
            "    \"content\": \"version 1.0\\ntask bamstats {\\n    input {\\n        File bam_input\\n        Int mem_gb\\n    }\\n\\n\\n\\tcommand {\\n\\t\\tbash /usr/local/bin/bamstats ${mem_gb} ${bam_input}\\n\\t}\\n\\n\\toutput {\\n\\t\\tFile bamstats_report = \\\"bamstats_report.zip\\\"\\n\\t}\\n\\n\\truntime {\\n\\t\\tdocker: \\\"ghcr.io/dockstore/dockstore-tool-bamstats:1.25-8\\\"\\n\\t\\tmemory: mem_gb + \\\"GB\\\"\\n\\t}\\n\\n\\tmeta {\\n\\t\\tauthor: \\\"Andrew Duncan\\\"\\n\\t}\\n}\\n\\nworkflow bamstatsWorkflow {\\n    input {\\n        File bam_input\\n        Int mem_gb\\n    }\\n\\tcall bamstats { input: bam_input=bam_input, mem_gb=mem_gb }\\n}\\n\",\n",
            "    \"image_type\": {},\n",
            "    \"url\": \"https://raw.githubusercontent.com/dockstore/dockstore-tool-bamstats/1.25-9//bamstats.wdl\"\n",
            "}\n"
          ]
        }
      ]
    },
    {
      "cell_type": "markdown",
      "source": [
        "Using the descriptor file as an anchor, we can retrieve other files using relative paths with the `tools/{id}/versions/{versionId}/{type}/descriptor/{relativePath}` endpoint. Let's get a file using its path."
      ],
      "metadata": {
        "id": "cxsthIfPRX3T"
      }
    },
    {
      "cell_type": "code",
      "source": [
        "filePath = files[0]['path']\n",
        "print(\"Getting file with relative path '{filePath}' for tool with ID '{id}', version '{versionId}', and type '{type}'\\n\".format(filePath = filePath, id = exampleTrsId, versionId = exampleVersionId, type = descriptorType))\n",
        "prettyPrintJson(getTrsRequestAsJson('tools/{id}/versions/{versionId}/{type}/descriptor/{relativePath}'.format(id = urlEncode(exampleTrsId), versionId = exampleVersionId, type = descriptorType, relativePath = filePath)))"
      ],
      "metadata": {
        "colab": {
          "base_uri": "https://localhost:8080/"
        },
        "id": "3-j34d-ZNk96",
        "outputId": "7dfb8c7d-d938-429f-8ac0-1157e000c639"
      },
      "execution_count": 341,
      "outputs": [
        {
          "output_type": "stream",
          "name": "stdout",
          "text": [
            "Getting file with relative path '.dockstore.yml' for tool with ID '#workflow/github.com/dockstore/dockstore-tool-bamstats/wdl', version '1.25-9', and type 'WDL'\n",
            "\n",
            "Performing GET request with URL https://dockstore.org/api/ga4gh/trs/v2/tools/%23workflow%2Fgithub.com%2Fdockstore%2Fdockstore-tool-bamstats%2Fwdl/versions/1.25-9/WDL/descriptor/.dockstore.yml\n",
            "{\n",
            "    \"checksum\": [\n",
            "        {\n",
            "            \"checksum\": \"888a220be757db31d32e4ad0281b3eab716cbb12bb6a3eaff5b52b5796a1f7e1\",\n",
            "            \"type\": \"sha-256\"\n",
            "        }\n",
            "    ],\n",
            "    \"content\": \"version: 1.2\\ntools:\\n  - subclass: CWL\\n    primaryDescriptorPath: /bamstats.cwl\\n    testParameterFiles:\\n      - /test.json\\n    name: bamstats_cwl\\n    authors:\\n      - orcid: 0000-0002-6130-1021\\n  - subclass: CWL\\n    primaryDescriptorPath: /bamstats_sort.cwl\\n    testParameterFiles:\\n      - /test.json\\n    name: bamstats_sort_cwl\\n    authors:\\n      - orcid: 0000-0002-6130-1021\\nworkflows:\\n  - subclass: WDL\\n    primaryDescriptorPath: /bamstats.wdl\\n    testParameterFiles:\\n      - /test.wdl.json\\n    name: wdl\\n    authors:\\n      - orcid: 0000-0002-6130-1021\\n  - subclass: NFL\\n    primaryDescriptorPath: /nextflow.config\\n    name: nfl\\n    authors:\\n      - orcid: 0000-0002-6130-1021               \\n\",\n",
            "    \"image_type\": {},\n",
            "    \"url\": \"https://raw.githubusercontent.com/dockstore/dockstore-tool-bamstats/1.25-9//.dockstore.yml\"\n",
            "}\n"
          ]
        }
      ]
    },
    {
      "cell_type": "markdown",
      "source": [
        "We can get a version's test files using the `tools/{id}/versions/{versionId}/{type}/tests` endpoint."
      ],
      "metadata": {
        "id": "CtcPrT-kSD8F"
      }
    },
    {
      "cell_type": "code",
      "source": [
        "print(\"Getting test files for tool with ID '{id}', version '{versionId}', and type '{type}'\\n\".format(filePath = filePath, id = exampleTrsId, versionId = exampleVersionId, type = descriptorType))\n",
        "\n",
        "prettyPrintJson(getTrsRequestAsJson('tools/{id}/versions/{versionId}/{type}/tests'.format(id = urlEncode(exampleTrsId), versionId = exampleVersionId, type = descriptorType)))"
      ],
      "metadata": {
        "colab": {
          "base_uri": "https://localhost:8080/"
        },
        "id": "HyI3QglWSJN2",
        "outputId": "83982596-2f95-4940-cd1f-0a8ae6ac953f"
      },
      "execution_count": 342,
      "outputs": [
        {
          "output_type": "stream",
          "name": "stdout",
          "text": [
            "Getting test files for tool with ID '#workflow/github.com/dockstore/dockstore-tool-bamstats/wdl', version '1.25-9', and type 'WDL'\n",
            "\n",
            "Performing GET request with URL https://dockstore.org/api/ga4gh/trs/v2/tools/%23workflow%2Fgithub.com%2Fdockstore%2Fdockstore-tool-bamstats%2Fwdl/versions/1.25-9/WDL/tests\n",
            "[\n",
            "    {\n",
            "        \"checksum\": [\n",
            "            {\n",
            "                \"checksum\": \"c3bf71fa0060bb2f095cba44a235b91c5f0d1c414235b7d4e0eb0964261cd6fa\",\n",
            "                \"type\": \"sha-256\"\n",
            "            }\n",
            "        ],\n",
            "        \"content\": \"{\\n  \\\"bamstatsWorkflow.bam_input\\\": \\\"rna.SRR948778.bam\\\",\\n  \\\"bamstatsWorkflow.mem_gb\\\": \\\"4\\\"\\n}\\n\",\n",
            "        \"image_type\": {},\n",
            "        \"url\": \"https://raw.githubusercontent.com/dockstore/dockstore-tool-bamstats/1.25-9/test.wdl.json\"\n",
            "    }\n",
            "]\n"
          ]
        }
      ]
    }
  ]
}